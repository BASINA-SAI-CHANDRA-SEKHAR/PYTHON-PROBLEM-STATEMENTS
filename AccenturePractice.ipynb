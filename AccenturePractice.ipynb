{
 "cells": [
  {
   "cell_type": "code",
   "execution_count": 12,
   "id": "dd9a8616-1acb-429b-80c1-2dd38abee28f",
   "metadata": {},
   "outputs": [
    {
     "name": "stdout",
     "output_type": "stream",
     "text": [
      "10 3\n",
      "20 4\n",
      "5 1\n"
     ]
    }
   ],
   "source": [
    "# Given an array which may contain duplicates, print all elements and their\n",
    "# frequencies.\n",
    "# arr[] = {10, 20, 20, 10, 10, 20, 5, 20}\n",
    "# Sample Output:\n",
    "\n",
    "# 10 3\n",
    "\n",
    "# 20 4\n",
    "\n",
    "# 5 1\n",
    "arr=[10,20,20,10,10,20,5,20]\n",
    "count={}\n",
    "for i in arr:\n",
    "    if i in count:\n",
    "        count[i]+=1\n",
    "    else:\n",
    "        count[i]=1\n",
    "for i in count:\n",
    "    print(i,count[i])"
   ]
  },
  {
   "cell_type": "code",
   "execution_count": 13,
   "id": "353d266c-e7c5-449e-8dec-d41e3c8076ca",
   "metadata": {},
   "outputs": [
    {
     "name": "stdout",
     "output_type": "stream",
     "text": [
      "{1, 2, 3, 4, 5}\n"
     ]
    }
   ],
   "source": [
    "# Given a sorted array arr[] of size N, the task is to remove the duplicate\n",
    "# elements from the array.\n",
    "\n",
    "# arr[] = {1, 2, 2, 3, 4, 4, 4, 5, 5}\n",
    "# Sample Output:\n",
    "\n",
    "# arr[] = {1, 2, 3, 4, 5}\n",
    "\n",
    "arr=[1,2,2,3,4,4,4,5,5]\n",
    "c=set(arr)\n",
    "print(c)"
   ]
  },
  {
   "cell_type": "code",
   "execution_count": 56,
   "id": "307496fa-187a-4a5c-ae22-f364cc987e78",
   "metadata": {},
   "outputs": [
    {
     "name": "stdin",
     "output_type": "stream",
     "text": [
      " 1\n",
      " 3\n"
     ]
    },
    {
     "name": "stdout",
     "output_type": "stream",
     "text": [
      "even\n"
     ]
    }
   ],
   "source": [
    "# Given an array such that all its terms is either 0 or 1.You need to tell the number\n",
    "# represented by a subarray a[l..r] is odd or even\n",
    "\n",
    "# Explanation: number represented by arr[l...r] is 101 which 5 in decimal form which is\n",
    "\n",
    "# odd\n",
    "\n",
    "# arr = {1, 1, 0, 1}\n",
    "\n",
    "# l = 1, r = 3\n",
    "# Sample Output:\n",
    "\n",
    "# Odd\n",
    "\n",
    "arr=[1,1,0,0]\n",
    "l=int(input())\n",
    "r=int(input())\n",
    "n=len(arr)\n",
    "if arr[r]==1:\n",
    "    print(\"odd\")\n",
    "else:\n",
    "    print(\"even\")"
   ]
  },
  {
   "cell_type": "code",
   "execution_count": 42,
   "id": "50c84240-ff39-41ee-9689-da5c24bb8e3d",
   "metadata": {},
   "outputs": [
    {
     "name": "stdout",
     "output_type": "stream",
     "text": [
      "3 4 5 6 7 1 2\n"
     ]
    }
   ],
   "source": [
    "# Given an array of integers arr[] of size N and an integer d, the task is to rotate the array\n",
    "# elements to the left by d positions.\n",
    "\n",
    "# d = 2 ,arr[] = {1, 2, 3, 4, 5, 6, 7}\n",
    "# Sample Output:\n",
    "\n",
    "# 3 4 5 6 7 1 2\n",
    "\n",
    "arr=[1,2,3,4,5,6,7]\n",
    "d=2\n",
    "arr3=arr[0:d]\n",
    "arr3\n",
    "arr4=arr[d:len(arr)]\n",
    "arr4\n",
    "print(*arr4+arr3)"
   ]
  },
  {
   "cell_type": "code",
   "execution_count": null,
   "id": "b3f2f22f-32d4-4dc0-9424-d2de2aff36e1",
   "metadata": {},
   "outputs": [],
   "source": []
  },
  {
   "cell_type": "code",
   "execution_count": null,
   "id": "77c1fff8-9685-4215-940a-f42f60e7d13a",
   "metadata": {},
   "outputs": [],
   "source": []
  }
 ],
 "metadata": {
  "kernelspec": {
   "display_name": "Python 3 (ipykernel)",
   "language": "python",
   "name": "python3"
  },
  "language_info": {
   "codemirror_mode": {
    "name": "ipython",
    "version": 3
   },
   "file_extension": ".py",
   "mimetype": "text/x-python",
   "name": "python",
   "nbconvert_exporter": "python",
   "pygments_lexer": "ipython3",
   "version": "3.12.5"
  }
 },
 "nbformat": 4,
 "nbformat_minor": 5
}
