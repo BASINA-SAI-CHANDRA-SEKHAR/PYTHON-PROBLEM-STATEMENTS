{
 "cells": [
  {
   "cell_type": "code",
   "execution_count": 5,
   "id": "6c236eb3-b884-4261-9ebb-03d832e29313",
   "metadata": {},
   "outputs": [
    {
     "name": "stdout",
     "output_type": "stream",
     "text": [
      "OddEvenOddEvenOddEven"
     ]
    }
   ],
   "source": [
    "# Jack has an array A of length N. He wants to label whether the number in the\n",
    "# array is even or odd. Your task is to help him find and return a string with\n",
    "# labels even or odd in sequence according to which the numbers appear in the\n",
    "# array.\n",
    "\n",
    "# Input 1:\n",
    "\n",
    "# [ 1, 2, 3, 4, 5, 6]\n",
    "\n",
    "# 6\n",
    "\n",
    "# Output 1 :\n",
    "\n",
    "# OddEvenOddEvenOddEven\n",
    "\n",
    "arr=[1,2,3,4,5,6]\n",
    "n=len(arr)\n",
    "for i in range(n):\n",
    "    if arr[i]%2==0:\n",
    "        print(\"Even\",end=\"\")\n",
    "    else:\n",
    "        print(\"Odd\",end=\"\")"
   ]
  },
  {
   "cell_type": "code",
   "execution_count": 15,
   "id": "f65b7cc0-b4be-46b0-8e0d-a3ffef27f31e",
   "metadata": {},
   "outputs": [
    {
     "name": "stdout",
     "output_type": "stream",
     "text": [
      "64\n"
     ]
    }
   ],
   "source": [
    "# Ian has been given an Array A of length N and he wants to find the sum of\n",
    "# even positions after reversing the array. Your task is to help him find and\n",
    "# return an integer value representing sum of the array elements present at the\n",
    "# even index of the reversed array.\n",
    "\n",
    "# Input 1:\n",
    "\n",
    "# 10, 20, 30, 40, 50, 60\n",
    "\n",
    "# 6\n",
    "\n",
    "# Output 1:\n",
    "\n",
    "# 120\n",
    "arr=[21,24,67,13,24,27]\n",
    "sum=0\n",
    "arr1=arr[::-1]\n",
    "n=len(arr1)\n",
    "for i in range(0,n):\n",
    "    if i%2==0:\n",
    "        sum+=arr1[i]\n",
    "print(sum)\n",
    "\n"
   ]
  },
  {
   "cell_type": "code",
   "execution_count": 5,
   "id": "65881807-4cd5-4e67-ad33-0aab946f4a19",
   "metadata": {},
   "outputs": [
    {
     "name": "stdout",
     "output_type": "stream",
     "text": [
      "3\n"
     ]
    }
   ],
   "source": [
    "# The function accepts an integer array ‘arr’ of size ‘n’ as its argument. The\n",
    "# function needs to return the index of an equilibrium point in the array, where\n",
    "# the sum of elements on the left of the index is equal to the sum of elements\n",
    "# on the right of the index. If no equilibrium point exists return -1.\n",
    "\n",
    "# Input 1 :\n",
    "\n",
    "# 7\n",
    "\n",
    "# -7 1 5 2 -4 3 0\n",
    "# Output 1:\n",
    "\n",
    "# 3\n",
    "\n",
    "# Question 20\n",
    "\n",
    "# The left sum at index 3 is -7 + 1 + 5 = -1, and the right sum after\n",
    "# index 3 is -4 + 3 + 0 = -1.\n",
    "\n",
    "arr=[-7,1,5,2,-4,3,0]\n",
    "n=len(arr)\n",
    "for i in range(n-1):\n",
    "    if sum(arr[0:i])==sum(arr[i+1:n]):\n",
    "        print(i)\n",
    "    "
   ]
  },
  {
   "cell_type": "code",
   "execution_count": 11,
   "id": "0ac5dd9d-f94b-4a12-b76f-8ab148c9af09",
   "metadata": {},
   "outputs": [
    {
     "name": "stdin",
     "output_type": "stream",
     "text": [
      " 1234\n",
      " 123\n"
     ]
    },
    {
     "name": "stdout",
     "output_type": "stream",
     "text": [
      "3\n"
     ]
    }
   ],
   "source": [
    "# Given two positive numbers N and M, the task is to count the number of digits that are\n",
    "# present in both N and M.\n",
    "\n",
    "# N = 748294\n",
    "\n",
    "# M = 34298156\n",
    "\n",
    "# Explanation:\n",
    "\n",
    "# The digits that are present in both the numbers are {4, 8, 2, 9}. Therefore, the required\n",
    "# count is 4.\n",
    "# Sample Output:\n",
    "\n",
    "# 4\n",
    "n=int(input())\n",
    "m=int(input())\n",
    "f=str(n)\n",
    "g=str(m)\n",
    "f=set(f)\n",
    "g=set(g)\n",
    "c=f.intersection(g)\n",
    "c\n",
    "print(len(c))\n",
    "\n",
    "\n"
   ]
  },
  {
   "cell_type": "code",
   "execution_count": 43,
   "id": "696c6236-bd4b-44f0-aba2-c8f6b107e460",
   "metadata": {},
   "outputs": [
    {
     "data": {
      "text/plain": [
       "'1000'"
      ]
     },
     "execution_count": 43,
     "metadata": {},
     "output_type": "execute_result"
    }
   ],
   "source": [
    "c=bin(8)\n",
    "c[2:]"
   ]
  },
  {
   "cell_type": "code",
   "execution_count": 1,
   "id": "bad511f6-bae4-4663-94f9-f862a703bdd5",
   "metadata": {},
   "outputs": [
    {
     "name": "stdin",
     "output_type": "stream",
     "text": [
      " 451\n",
      " 349\n"
     ]
    },
    {
     "name": "stdout",
     "output_type": "stream",
     "text": [
      "3\n"
     ]
    }
   ],
   "source": [
    "# num1: 451\n",
    "# num2: 349\n",
    "\n",
    "# Explanation\n",
    "# Adding ‘num 1’ and ‘num 2’ right-to-left results in 2 carries since ( 1+9) is 10. 1 is carried and (5+4=1) is 10, again 1 is\n",
    "# carried. Hence 2 is returned.\n",
    "\n",
    "# Sample Input:\n",
    "\n",
    "# num1: 23\n",
    "# num2: 563\n",
    "num1=int(input())\n",
    "num2=int(input())\n",
    "sum1=0\n",
    "sum2=0\n",
    "count=0\n",
    "while(num1>0 and num2>0):\n",
    "    rem1=num1%10\n",
    "    sum1=sum1+rem1\n",
    "    num1//=10\n",
    "    rem2=num2%10\n",
    "    sum2=sum2+rem2\n",
    "    num2//=10\n",
    "    if sum1+sum2>9:\n",
    "        count+=1\n",
    "        num1+=1\n",
    "print(count)"
   ]
  },
  {
   "cell_type": "code",
   "execution_count": null,
   "id": "59696910-d280-437f-a5ab-49fb4e313c37",
   "metadata": {},
   "outputs": [],
   "source": []
  }
 ],
 "metadata": {
  "kernelspec": {
   "display_name": "Python 3 (ipykernel)",
   "language": "python",
   "name": "python3"
  },
  "language_info": {
   "codemirror_mode": {
    "name": "ipython",
    "version": 3
   },
   "file_extension": ".py",
   "mimetype": "text/x-python",
   "name": "python",
   "nbconvert_exporter": "python",
   "pygments_lexer": "ipython3",
   "version": "3.12.5"
  }
 },
 "nbformat": 4,
 "nbformat_minor": 5
}
